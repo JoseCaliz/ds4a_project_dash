{
 "cells": [
  {
   "cell_type": "code",
   "execution_count": 1,
   "metadata": {},
   "outputs": [],
   "source": [
    "import pandas as pd\n",
    "import numpy as np\n",
    "from sqlalchemy import create_engine\n",
    "from tensorflow import keras\n",
    "import matplotlib.pyplot as plt\n",
    "import seaborn as sns\n",
    "import sklearn.metrics as skm\n",
    "from xgboost import XGBRegressor"
   ]
  },
  {
   "cell_type": "code",
   "execution_count": 2,
   "metadata": {},
   "outputs": [],
   "source": [
    "driver = 'postgres'\n",
    "username = 'ds4a'\n",
    "password = 'ds4A-7eaM79'\n",
    "host = 'ds4a.cm1dcdf7pnnv.us-east-2.rds.amazonaws.com'\n",
    "port = 5432\n",
    "database = 'team_79'\n",
    "\n",
    "connection_string = f'{driver}://{username}:{password}@{host}:{port}/{database}'\n",
    "engine = create_engine(connection_string, encoding='utf8')"
   ]
  },
  {
   "cell_type": "code",
   "execution_count": 3,
   "metadata": {},
   "outputs": [],
   "source": [
    "tablas = [\n",
    "    'violencia_intrafamiliar',\n",
    "    'homicidios',\n",
    "    'hurto_automotores',\n",
    "    'hurto_motocicletas',\n",
    "    'del_sexuales',\n",
    "    'hurto_personas'\n",
    "]\n",
    "\n",
    "query = '''\n",
    "SELECT\n",
    "    FLOOR(row_num/ 2) as week,\n",
    "    (max(weekly) + interval '14 day')::date as ds,\n",
    "    sum(total_count) as num_cases\n",
    "FROM (\n",
    "    SELECT\n",
    "        date_trunc('week', fecha) AS weekly,\n",
    "        row_number() over (order by date_trunc('week', fecha)) - 1 AS row_num,\n",
    "        COUNT(*)  total_count\n",
    "    FROM {}\n",
    "    WHERE fecha >= '2015-12-21'\n",
    "    AND municipio like 'BOGO%%'\n",
    "    GROUP BY 1\n",
    "    ORDER BY 1\n",
    ") t\n",
    "GROUP BY 1\n",
    "ORDER BY 1\n",
    "''';"
   ]
  },
  {
   "cell_type": "code",
   "execution_count": 4,
   "metadata": {},
   "outputs": [],
   "source": [
    "data = {i:pd.read_sql(query.format(i), engine) for i in tablas}"
   ]
  },
  {
   "cell_type": "code",
   "execution_count": 5,
   "metadata": {},
   "outputs": [],
   "source": [
    "def rolling(a, window):\n",
    "    shape = a.shape[:-1] + (a.shape[-1] - window + 1, window)\n",
    "    strides = a.strides + (a.strides[-1],)\n",
    "    return np.lib.stride_tricks.as_strided(a, shape=shape, strides=strides)\n",
    "\n",
    "def mape(true, preds):\n",
    "    return np.mean(np.abs(true - preds)/np.abs(true))"
   ]
  },
  {
   "cell_type": "code",
   "execution_count": 6,
   "metadata": {},
   "outputs": [],
   "source": [
    "def get_data(window_type='W', window_size=5):\n",
    "    resampled_data = {}\n",
    "    for i in data.keys():\n",
    "        data[i].ds = pd.to_datetime(data[i].ds)\n",
    "        resampled_data[i] = data[i].set_index('ds')['num_cases']\n",
    "    \n",
    "    X_train = {}\n",
    "    X_test = {}\n",
    "\n",
    "    y_train = {}\n",
    "    y_test = {}\n",
    "\n",
    "    for i in tablas:\n",
    "        X = rolling(resampled_data[i].to_numpy(), window_size)\n",
    "        y = X[1:,-1]\n",
    "        X = X[:-1, :]\n",
    "        \n",
    "        X_train[i], X_test[i] = X[0:int(X.shape[0]*0.8),:], X[int(X.shape[0]*0.8):,:]\n",
    "        y_train[i], y_test[i] = y[0:int(y.shape[0]*0.8)], y[int(y.shape[0]*0.8):]\n",
    "\n",
    "        temp = np.arange(X_train[i].shape[0])\n",
    "        np.random.seed(0)\n",
    "\n",
    "        np.random.shuffle(temp)\n",
    "        X_train[i] = X_train[i][temp, :]\n",
    "        y_train[i] = y_train[i][temp]\n",
    "        \n",
    "    return (X_train, X_test, y_train, y_test, resampled_data)"
   ]
  },
  {
   "cell_type": "markdown",
   "metadata": {},
   "source": [
    "## XGBoost Models"
   ]
  },
  {
   "cell_type": "code",
   "execution_count": 9,
   "metadata": {
    "scrolled": true
   },
   "outputs": [
    {
     "name": "stdout",
     "output_type": "stream",
     "text": [
      "---------------------------------------------------\n",
      "violencia_intrafamiliar\t 268.05    274.46\n",
      "homicidios\t\t 7.61    7.66\n",
      "hurto_automotores\t 18.31    19.02\n",
      "hurto_motocicletas\t 25.42    22.35\n",
      "del_sexuales\t\t 42.48    43.84\n",
      "hurto_personas\t\t 982.90    476.08\n",
      "\n",
      "violencia_intrafamiliar\t 131810.49    160576.50\n",
      "homicidios\t\t 127.01    123.42\n",
      "hurto_automotores\t 677.61    913.04\n",
      "hurto_motocicletas\t 1503.35    1359.08\n",
      "del_sexuales\t\t 4374.76    4659.09\n",
      "hurto_personas\t\t 1387554.80    802413.17\n",
      "\n",
      "violencia_intrafamiliar\t 1.80    2.16\n",
      "homicidios\t\t 0.50    0.47\n",
      "hurto_automotores\t 0.54    0.67\n",
      "hurto_motocicletas\t 0.85    0.84\n",
      "del_sexuales\t\t 2.25    2.24\n",
      "hurto_personas\t\t 0.29    0.23\n",
      "\n",
      "violencia_intrafamiliar\t 1.80    0.75\n",
      "homicidios\t\t 0.50    0.74\n",
      "hurto_automotores\t 0.54    0.54\n",
      "hurto_motocicletas\t 0.85    0.78\n",
      "del_sexuales\t\t 2.25    0.72\n",
      "hurto_personas\t\t 0.29    0.24\n"
     ]
    }
   ],
   "source": [
    "model = {}\n",
    "X_train, X_test, y_train, y_test, _ = get_data(window_type='W', window_size=4)\n",
    "\n",
    "for i in tablas:\n",
    "    model[i] = XGBRegressor(n_estimators=1000, max_depth=3, learning_rate=0.005, n_jobs=-1)\n",
    "    model[i].fit(\n",
    "        X_train[i],\n",
    "        y_train[i],\n",
    "        eval_set=[(X_test[i], y_test[i])],\n",
    "        eval_metric='mae',\n",
    "        early_stopping_rounds=100,\n",
    "        verbose=0\n",
    "    )\n",
    "\n",
    "print('---------------------------------------------------')\n",
    "for i in tablas:\n",
    "    t = '\\t'\n",
    "    if len(i) <= len('hurto_personas'):\n",
    "        t = '\\t\\t'\n",
    "    print(\n",
    "        i + t, \n",
    "        '{:.2f}'.format(skm.mean_absolute_error(y_test[i], model[i].predict(X_test[i]))),\n",
    "        '  ',\n",
    "        '{:.2f}'.format(skm.mean_absolute_error(y_test[i], [y_test[i].mean()]*y_test[i].shape[0])),\n",
    "    )\n",
    "\n",
    "print()\n",
    "\n",
    "for i in tablas:\n",
    "    t = '\\t'\n",
    "    if len(i) <= len('hurto_personas'):\n",
    "        t = '\\t\\t'\n",
    "    print(\n",
    "        i + t, \n",
    "        '{:.2f}'.format(skm.mean_squared_error(y_test[i], model[i].predict(X_test[i]))),\n",
    "        '  ',\n",
    "        '{:.2f}'.format(skm.mean_squared_error(y_test[i], [y_test[i].mean()]*y_test[i].shape[0])),\n",
    "    )\n",
    "\n",
    "print()\n",
    "\n",
    "for i in tablas:\n",
    "    t = '\\t'\n",
    "    if len(i) <= len('hurto_personas'):\n",
    "        t = '\\t\\t'\n",
    "    print(\n",
    "        i + t, \n",
    "        '{:.2f}'.format(mape(y_test[i], model[i].predict(X_test[i]))),\n",
    "        '  ',\n",
    "        '{:.2f}'.format(mape(y_test[i], [y_test[i].mean()]*y_test[i].shape[0])),\n",
    "    )\n",
    "\n",
    "print()\n",
    "for i in tablas:\n",
    "    t = '\\t'\n",
    "    if len(i) <= len('hurto_personas'):\n",
    "        t = '\\t\\t'\n",
    "    print(\n",
    "        i + t, \n",
    "        '{:.2f}'.format(mape(y_test[i], model[i].predict(X_test[i]))),\n",
    "        '  ',\n",
    "        '{:.2f}'.format(mape(y_test[i], X_test[i][:, -1])),\n",
    "    )"
   ]
  },
  {
   "cell_type": "markdown",
   "metadata": {},
   "source": [
    "## FB prophet"
   ]
  },
  {
   "cell_type": "code",
   "execution_count": 10,
   "metadata": {},
   "outputs": [],
   "source": [
    "from fbprophet import Prophet"
   ]
  },
  {
   "cell_type": "code",
   "execution_count": 12,
   "metadata": {},
   "outputs": [
    {
     "name": "stdout",
     "output_type": "stream",
     "text": [
      "--------------------------------------\n",
      "violencia_intrafamiliar\t 275.56    271.42\n",
      "homicidios\t\t 8.30    7.59\n",
      "hurto_automotores\t 24.69    18.41\n",
      "hurto_motocicletas\t 25.54    22.62\n",
      "del_sexuales\t\t 43.31    42.44\n",
      "hurto_personas\t\t 581.73    466.36\n",
      "\n",
      "violencia_intrafamiliar\t 108628.92    154281.90\n",
      "homicidios\t\t 126.75    119.79\n",
      "hurto_automotores\t 1020.48    874.98\n",
      "hurto_motocicletas\t 1385.61    1345.51\n",
      "del_sexuales\t\t 5240.72    4469.51\n",
      "hurto_personas\t\t 957194.80    775972.27\n",
      "\n",
      "violencia_intrafamiliar\t 1.23    2.06\n",
      "homicidios\t\t 0.49    0.46\n",
      "hurto_automotores\t 0.62    0.64\n",
      "hurto_motocicletas\t 0.81    0.81\n",
      "del_sexuales\t\t 2.61    2.15\n",
      "hurto_personas\t\t 0.25    0.22\n",
      "\n",
      "violencia_intrafamiliar\t 1.23    0.00\n",
      "homicidios\t\t 0.49    0.00\n",
      "hurto_automotores\t 0.62    0.00\n",
      "hurto_motocicletas\t 0.81    0.00\n",
      "del_sexuales\t\t 2.61    0.00\n",
      "hurto_personas\t\t 0.25    0.00\n"
     ]
    }
   ],
   "source": [
    "fb_model = {}\n",
    "fb_train = {}\n",
    "fb_test = {}\n",
    "\n",
    "_, _, _, _, resampled_data = get_data()\n",
    "for i in tablas:\n",
    "    fb_model[i] = Prophet(weekly_seasonality=True, daily_seasonality=True)\n",
    "    temp = resampled_data[i].rename_axis('ds').reset_index(name='y')\n",
    "\n",
    "    fb_train[i], fb_test[i] = temp.iloc[:int(temp.shape[0]*0.8)].copy(), temp.iloc[int(temp.shape[0]*0.8):].copy()\n",
    "    fb_model[i].fit(fb_train[i])\n",
    "\n",
    "\n",
    "print('--------------------------------------')\n",
    "for i in tablas:\n",
    "    t = '\\t'\n",
    "    if len(i) <= len('hurto_personas'):\n",
    "        t = '\\t\\t'\n",
    "    print(\n",
    "        i + t, \n",
    "        '{:.2f}'.format(skm.mean_absolute_error(fb_test[i]['y'].to_numpy(), fb_model[i].predict(fb_test[i][['ds']]).yhat.to_numpy())),\n",
    "        '  ',\n",
    "        '{:.2f}'.format(skm.mean_absolute_error(fb_test[i]['y'].to_numpy(), [fb_test[i]['y'].mean()]*fb_test[i]['y'].shape[0])),\n",
    "    )\n",
    "\n",
    "print()\n",
    "\n",
    "for i in tablas:\n",
    "    t = '\\t'\n",
    "    if len(i) <= len('hurto_personas'):\n",
    "        t = '\\t\\t'\n",
    "    print(\n",
    "        i + t, \n",
    "        '{:.2f}'.format(skm.mean_squared_error(fb_test[i]['y'].to_numpy(), fb_model[i].predict(fb_test[i][['ds']]).yhat.to_numpy())),\n",
    "        '  ',\n",
    "        '{:.2f}'.format(skm.mean_squared_error(fb_test[i]['y'].to_numpy(), [fb_test[i]['y'].mean()]*fb_test[i]['y'].shape[0])),\n",
    "    )\n",
    "\n",
    "print()\n",
    "for i in tablas:\n",
    "    t = '\\t'\n",
    "    if len(i) <= len('hurto_personas'):\n",
    "        t = '\\t\\t'\n",
    "    print(\n",
    "        i + t, \n",
    "        '{:.2f}'.format(mape(fb_test[i]['y'].to_numpy(), fb_model[i].predict(fb_test[i][['ds']]).yhat.to_numpy())),\n",
    "        '  ',\n",
    "        '{:.2f}'.format(mape(fb_test[i]['y'].to_numpy(), [fb_test[i]['y'].mean()]*fb_test[i]['y'].shape[0])),\n",
    "    )\n",
    "\n",
    "print()\n",
    "for i in tablas:\n",
    "    t = '\\t'\n",
    "    if len(i) <= len('hurto_personas'):\n",
    "        t = '\\t\\t'\n",
    "    print(\n",
    "        i + t, \n",
    "        '{:.2f}'.format(mape(fb_test[i]['y'].to_numpy(), fb_model[i].predict(fb_test[i][['ds']]).yhat.to_numpy())),\n",
    "            '  ',\n",
    "        '{:.2f}'.format(mape(fb_test[i]['y'].to_numpy(), fb_test[i]['y'][:])),\n",
    "    )"
   ]
  },
  {
   "cell_type": "code",
   "execution_count": 13,
   "metadata": {},
   "outputs": [
    {
     "data": {
      "text/plain": [
       "['time_series_models.pkl']"
      ]
     },
     "execution_count": 13,
     "metadata": {},
     "output_type": "execute_result"
    }
   ],
   "source": [
    "import joblib as jl\n",
    "from datetime import datetime\n",
    "# jl.dump('./models/fb_model[i]\n",
    "\n",
    "\n",
    "# exporting models\n",
    "model_final = {}\n",
    "model_final['dom_viol'] = fb_model['violencia_intrafamiliar']\n",
    "model_final['murder'] = fb_model['homicidios']\n",
    "model_final['sex_off'] = model['del_sexuales']\n",
    "model_final['robbery'] = model['hurto_personas']\n",
    "\n",
    "jl.dump(model_final, 'time_series_models.pkl')"
   ]
  },
  {
   "cell_type": "markdown",
   "metadata": {},
   "source": [
    "## Example"
   ]
  },
  {
   "cell_type": "code",
   "execution_count": 38,
   "metadata": {},
   "outputs": [],
   "source": [
    "crime = 'homicidios'\n",
    "\n",
    "import seaborn as sns\n",
    "\n",
    "# fig, ax = plt.figure(figsize=(16, 9))\n",
    "preds_XGboost = model[crime].predict(X_test[crime])\n",
    "preds_Prophet = fb_model[crime].predict(fb_test[crime][['ds']])"
   ]
  },
  {
   "cell_type": "code",
   "execution_count": 39,
   "metadata": {},
   "outputs": [
    {
     "data": {
      "text/plain": [
       "Text(0.5, 1.0, 'Murders')"
      ]
     },
     "execution_count": 39,
     "metadata": {},
     "output_type": "execute_result"
    },
    {
     "data": {
      "image/png": "[encoded data removed]",
      "text/plain": [
       "<Figure size 1152x648 with 1 Axes>"
      ]
     },
     "metadata": {},
     "output_type": "display_data"
    }
   ],
   "source": [
    "sns.set_style('whitegrid')\n",
    "\n",
    "fig, ax = plt.subplots(figsize=(16,9))\n",
    "preds_Prophet.set_index('ds').yhat.plot(ax=ax, label='Prophet Pred')\n",
    "fb_test[crime].set_index('ds').y.plot(ax=ax, label='Prophet Test')\n",
    "fb_train[crime].set_index('ds').y.plot(ax=ax, label='Prophet Train')\n",
    "\n",
    "ax.legend()\n",
    "ax.set_title('Murders')"
   ]
  },
  {
   "cell_type": "code",
   "execution_count": null,
   "metadata": {},
   "outputs": [],
   "source": []
  }
 ],
 "metadata": {
  "kernelspec": {
   "display_name": "DS4A",
   "language": "python",
   "name": "ds4a"
  },
  "language_info": {
   "codemirror_mode": {
    "name": "ipython",
    "version": 3
   },
   "file_extension": ".py",
   "mimetype": "text/x-python",
   "name": "python",
   "nbconvert_exporter": "python",
   "pygments_lexer": "ipython3",
   "version": "3.7.3"
  }
 },
 "nbformat": 4,
 "nbformat_minor": 4
}
